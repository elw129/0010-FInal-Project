{
 "cells": [
  {
   "cell_type": "code",
   "execution_count": 39,
   "id": "e215553e-d0eb-4e7a-b999-bbf55add9ec1",
   "metadata": {},
   "outputs": [
    {
     "name": "stdout",
     "output_type": "stream",
     "text": [
      "float64\n",
      "           NEIGHBORHOOD  TOTAL MD AGE AT DEATH      Score\n",
      "89  SQUIRREL HILL SOUTH                   85.9  10.000000\n",
      "76        NORTH OAKLAND                   85.6   9.917178\n",
      "71           BANKSVILLE                   85.5   9.889571\n",
      "53         POINT BREEZE                   85.1   9.779141\n",
      "68  SQUIRREL HILL NORTH                   85.0   9.751534\n",
      "..                  ...                    ...        ...\n",
      "42            ALLENTOWN                   66.5   4.644172\n",
      "49       EAST ALLEGHENY                   66.2   4.561350\n",
      "3        ALLEGHENY WEST                   65.0   4.230061\n",
      "7     ARLINGTON HEIGHTS                   63.7   3.871166\n",
      "9             FAIRYWOOD                   53.3   1.000000\n",
      "\n",
      "[88 rows x 3 columns]\n"
     ]
    }
   ],
   "source": [
    "import pandas as pd\n",
    "\n",
    "df = pd.read_csv(\"median_age.csv\")\n",
    "med_age = df[['NEIGHBORHOOD', 'TOTAL MD AGE AT DEATH']].dropna(subset=['TOTAL MD AGE AT DEATH'])\n",
    "med_age['TOTAL MD AGE AT DEATH'] = med_age['TOTAL MD AGE AT DEATH'].astype(float)\n",
    "med_age = med_age[med_age['TOTAL MD AGE AT DEATH'] != 0]\n",
    "\n",
    "min_v = med_age['TOTAL MD AGE AT DEATH'].min()\n",
    "max_v = med_age['TOTAL MD AGE AT DEATH'].max()\n",
    "\n",
    "\n",
    "med_age['Score'] = (med_age['TOTAL MD AGE AT DEATH'] - min_v)/(max_v-min_v)*9 +1\n",
    "\n",
    "med_age = med_age.sort_values('Score', ascending=False)\n",
    "print(med_age)\n",
    "    "
   ]
  },
  {
   "cell_type": "code",
   "execution_count": 21,
   "id": "9309cfa9-73c9-4ac0-b50d-ce00d50914fb",
   "metadata": {},
   "outputs": [],
   "source": [
    "def score_age(age, min_val, max_val):\n",
    "    return 1 + 9 * (age - min_val) / (max_val - min_val)"
   ]
  }
 ],
 "metadata": {
  "kernelspec": {
   "display_name": "Python 3 (ipykernel)",
   "language": "python",
   "name": "python3"
  },
  "language_info": {
   "codemirror_mode": {
    "name": "ipython",
    "version": 3
   },
   "file_extension": ".py",
   "mimetype": "text/x-python",
   "name": "python",
   "nbconvert_exporter": "python",
   "pygments_lexer": "ipython3",
   "version": "3.11.5"
  }
 },
 "nbformat": 4,
 "nbformat_minor": 5
}
